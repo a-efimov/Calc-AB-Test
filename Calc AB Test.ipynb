{
 "cells": [
  {
   "cell_type": "code",
   "execution_count": 1,
   "metadata": {},
   "outputs": [],
   "source": [
    "import scipy.stats as scs\n",
    "import pandas as pd\n",
    "import numpy as np\n",
    "from scipy import stats\n",
    "from scipy.stats import ttest_ind\n",
    "from scipy.stats import mannwhitneyu\n",
    "from scipy.stats import norm\n",
    "from random import randint"
   ]
  },
  {
   "cell_type": "markdown",
   "metadata": {},
   "source": [
    "## Функция для расчета продолжительности эксперимента"
   ]
  },
  {
   "cell_type": "code",
   "execution_count": 2,
   "metadata": {},
   "outputs": [
    {
     "data": {
      "text/plain": [
       "294"
      ]
     },
     "execution_count": 2,
     "metadata": {},
     "output_type": "execute_result"
    }
   ],
   "source": [
    "def calc_duration_ab_test(bcr, uplift, power=0.8, aplpha=0.05, ratio=0.5, cnt_sided=2):\n",
    "\n",
    "    # параметры для расчета:\n",
    "    # - bcr       - текущий показатель конверсии\n",
    "    # - uplift    - жеалемое увеличение конверсии\n",
    "    # - power     - значение мощности, по-умолчанию 0.8\n",
    "    # - pvalue    - значение pvalue, по-умолчанию 0.05\n",
    "    # - ratio     - соотношение трафика, если 50%/50%, то 0.5, 90%/10%, то 0.9, и т.д.\n",
    "    # - cnt_sided - односторонний или двусторонной тест, значения 1 и 2, по-умолчанию 2\n",
    "\n",
    "    mde = bcr + bcr * uplift\n",
    "    standard_norm = scs.norm(0, 1)\n",
    "    Z_beta = standard_norm.ppf(power)\n",
    "    Z_alpha = standard_norm.ppf(1 - aplpha / cnt_sided)\n",
    "\n",
    "    n_users = (((Z_beta + Z_alpha)**2) * bcr * (1-bcr)) / ((mde-bcr)**2 * ratio * (1-ratio))\n",
    "\n",
    "    return round(n_users + 1)\n",
    "\n",
    "# пример\n",
    "calc_duration_ab_test (0.3, 0.5)"
   ]
  },
  {
   "cell_type": "markdown",
   "metadata": {},
   "source": [
    "## Функция для расчета p-value Хи-квадрат"
   ]
  },
  {
   "cell_type": "code",
   "execution_count": 3,
   "metadata": {},
   "outputs": [
    {
     "name": "stdout",
     "output_type": "stream",
     "text": [
      "Pvalue = 0.0055. Для данного эксперимента необходимо 281 пользователей, получено 300, этого количества достаточно 😎🎈🎁✅\n"
     ]
    },
    {
     "data": {
      "text/plain": [
       "0.0055"
      ]
     },
     "execution_count": 3,
     "metadata": {},
     "output_type": "execute_result"
    }
   ],
   "source": [
    "def calc_pvalue_chi_square_ab_test(users_a, goal_a, users_b, goal_b, cnt_sided=2):\n",
    "    \n",
    "    # вариант a - тестовый\n",
    "    \n",
    "    # аргументы функции:\n",
    "    # - users_a     - количество измерений варианте a\n",
    "    # - goal_a      - количество целевых действий в варианте a\n",
    "    # - users_b     - количество измерений варианте b\n",
    "    # - goal_b      - количество целевых действий в варианте b\n",
    "    # - cnt_sided   - односторонний или двусторонной тест, значения 1 и 2, по-умолчанию двусторонний\n",
    "    \n",
    "    # считаем pvalue\n",
    "    rate_a = goal_a / users_a\n",
    "    rate_b = goal_b / users_b\n",
    "    std_a = np.sqrt(rate_a * (1 - rate_a) / users_a)\n",
    "    std_b = np.sqrt(rate_b * (1 - rate_b) / users_b)\n",
    "    \n",
    "    z_score = (rate_b - rate_a) / np.sqrt(std_a**2 + std_b**2)\n",
    "    pvalue = round(norm.sf(abs(z_score)) * cnt_sided, 4)\n",
    "    \n",
    "    if pvalue > 0.5: pvalue = 1 - pvalue\n",
    "        \n",
    "    # считаем достаточность трафика\n",
    "    uplift = rate_b / rate_a - 1\n",
    "    ratio = max(users_a, users_b) / ((max(users_a, users_b) + min(users_b, 150)))\n",
    "    \n",
    "    duration_ab_test = calc_duration_ab_test(rate_a, uplift, ratio=ratio)\n",
    "    \n",
    "    if pvalue < 0.05 and duration_ab_test >= (users_a + users_b):\n",
    "        print('''Pvalue = {pvalue}. Для данного эксперимента необходимо {calc_duration} пользователей, а получено {fact_duration}, этого количества недостаточно, эксперимент остановлен преждевременно 😓😓😓'''. \\\n",
    "        format(pvalue=pvalue, calc_duration=duration_ab_test, fact_duration=users_a + users_b))\n",
    "    \n",
    "    elif pvalue < 0.05 and duration_ab_test < (users_a + users_b):\n",
    "        print('''Pvalue = {pvalue}. Для данного эксперимента необходимо {calc_duration} пользователей, получено {fact_duration}, этого количества достаточно 😎🎈🎁✅'''. \\\n",
    "        format(pvalue=pvalue, calc_duration=duration_ab_test, fact_duration=users_a + users_b))\n",
    "        \n",
    "    return pvalue\n",
    "\n",
    "# пример\n",
    "users_a = 150\n",
    "users_b = 150\n",
    "goal_a = 45\n",
    "goal_b = 68\n",
    "\n",
    "calc_pvalue_chi_square_ab_test(users_a, goal_a, users_b, goal_b)"
   ]
  },
  {
   "cell_type": "markdown",
   "metadata": {},
   "source": [
    "## Функция для расчета p-value Т-тест"
   ]
  },
  {
   "cell_type": "code",
   "execution_count": 4,
   "metadata": {},
   "outputs": [
    {
     "data": {
      "text/plain": [
       "0.04351509912450062"
      ]
     },
     "execution_count": 4,
     "metadata": {},
     "output_type": "execute_result"
    }
   ],
   "source": [
    "def calc_ttest_ab_test(data_control, data_test):\n",
    "    \n",
    "    # аргументы функции:\n",
    "    # - data_control - список значений контрольного варианта\n",
    "    # - data_test    - список значений тестового варианта\n",
    "    \n",
    "    pvalue = ttest_ind(data_control, data_test)[1]\n",
    "    return pvalue\n",
    "\n",
    "# пример\n",
    "data_ab = pd.read_csv('data_ab.csv')\n",
    "data_test = data_ab[data_ab['group'] == 'test']['value']\n",
    "data_control = data_ab[data_ab['group'] == 'control']['value']\n",
    "\n",
    "calc_ttest_ab_test(data_control, data_test)"
   ]
  },
  {
   "cell_type": "markdown",
   "metadata": {},
   "source": [
    "## Функция для расчета p-value Т-тест с оценкой дисперсии дельта-методом\n",
    "Подходит для метрик-отнощшений с неуникальными наблюдениями, например, CTR"
   ]
  },
  {
   "cell_type": "code",
   "execution_count": 8,
   "metadata": {},
   "outputs": [
    {
     "data": {
      "text/plain": [
       "0.029395665911783577"
      ]
     },
     "execution_count": 8,
     "metadata": {},
     "output_type": "execute_result"
    }
   ],
   "source": [
    "# сгенеированный датасет\n",
    "impression_control = [randint(1,600) for i in range(10000)]\n",
    "click_control = [randint(0,30) for i in range(10000)]\n",
    "\n",
    "impression_test = [randint(1,600) for i in range(10000)]\n",
    "click_test = [randint(0,31) for i in range(10000)]\n",
    "\n",
    "df = pd.DataFrame({\n",
    "    'impression_control': impression_control,\n",
    "    'click_control': click_control,\n",
    "    'impression_test': impression_test,\n",
    "    'click_test': click_test\n",
    "})\n",
    "\n",
    "\n",
    "def var_ratio(click, impression):\n",
    "    \n",
    "    # функция рассчтитывает дисперсию дельта-методом\n",
    "    # аргументы функции:\n",
    "    # - click - колонка с кликами\n",
    "    # - impression - колонка с показами\n",
    "    \n",
    "    mean_click = np.mean(click)\n",
    "    mean_impression = np.mean(impression)\n",
    "    \n",
    "    var_click = np.var(click,ddof=1)\n",
    "    var_impression = np.var(impression,ddof=1)\n",
    "    \n",
    "    cov_click_impression = np.cov(click,impression,ddof=1)[0][1]\n",
    "    \n",
    "    result = (var_click/mean_click**2 + \\\n",
    "              var_impression/mean_impression**2 - \\\n",
    "              2*cov_click_impression/(mean_click*mean_impression))*(mean_click*mean_click)/(mean_impression*mean_impression*len(click))\n",
    "    \n",
    "    return result\n",
    "\n",
    "def calc_ttest_ab_test_delta(df):\n",
    "    \n",
    "    # функция рассчтитывает pvalue критерием t-test\n",
    "    # аргументы функции:\n",
    "    # - df - датафрейм с колонками: click_control, impression_control, click_test, impression_test\n",
    "    \n",
    "    var_control = var_ratio(df['click_control'],df['impression_control'])\n",
    "    var_treatment = var_ratio(df['click_test'],df['impression_test'])\n",
    "\n",
    "    mean_control = df['click_control'].sum()/df['impression_control'].sum()\n",
    "    mean_treatment = df['click_test'].sum()/df['impression_test'].sum()\n",
    "    \n",
    "    diff = mean_treatment - mean_control\n",
    "    var = var_control+var_treatment\n",
    "    stde = 1.96*np.sqrt(var)\n",
    "    lower = diff - stde \n",
    "    upper = diff + stde\n",
    "    z = diff/np.sqrt(var)\n",
    "    pvalue = stats.norm.sf(abs(z))\n",
    "\n",
    "    return pvalue\n",
    "\n",
    "calc_ttest_ab_test_delta(df)"
   ]
  },
  {
   "cell_type": "markdown",
   "metadata": {},
   "source": [
    "## Функция для расчета p-value Манна-Уитни"
   ]
  },
  {
   "cell_type": "code",
   "execution_count": 6,
   "metadata": {},
   "outputs": [
    {
     "data": {
      "text/plain": [
       "0.023891722890583424"
      ]
     },
     "execution_count": 6,
     "metadata": {},
     "output_type": "execute_result"
    }
   ],
   "source": [
    "def calc_mannwhitneyu_ab_test(data_control, data_test):\n",
    "    \n",
    "    # аргументы функции:\n",
    "    # - data_control  - список значений контрольного варианта\n",
    "    # - data_test     - список значений тестового варианта\n",
    "    \n",
    "    pvalue = mannwhitneyu(data_test, data_control)[1]\n",
    "    return pvalue\n",
    "\n",
    "# пример\n",
    "data_ab = pd.read_csv('data_ab.csv')\n",
    "data_test = data_ab[data_ab['group'] == 'test']['value']\n",
    "data_control = data_ab[data_ab['group'] == 'control']['value']\n",
    "\n",
    "calc_mannwhitneyu_ab_test(data_control, data_test)"
   ]
  },
  {
   "cell_type": "code",
   "execution_count": null,
   "metadata": {},
   "outputs": [],
   "source": []
  }
 ],
 "metadata": {
  "kernelspec": {
   "display_name": "Python 3",
   "language": "python",
   "name": "python3"
  },
  "language_info": {
   "codemirror_mode": {
    "name": "ipython",
    "version": 3
   },
   "file_extension": ".py",
   "mimetype": "text/x-python",
   "name": "python",
   "nbconvert_exporter": "python",
   "pygments_lexer": "ipython3",
   "version": "3.8.3"
  }
 },
 "nbformat": 4,
 "nbformat_minor": 4
}
